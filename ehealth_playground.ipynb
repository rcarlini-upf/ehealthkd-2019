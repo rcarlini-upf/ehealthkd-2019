{
 "cells": [
  {
   "cell_type": "code",
   "execution_count": 1,
   "metadata": {},
   "outputs": [],
   "source": [
    "import scripts.initial_system as ini_sys"
   ]
  },
  {
   "cell_type": "code",
   "execution_count": 41,
   "metadata": {},
   "outputs": [
    {
     "data": {
      "text/plain": [
       "<module 'scripts.initial_system' from '/home/rcarlini/code/mix/ehealthkd-2019/scripts/initial_system.py'>"
      ]
     },
     "execution_count": 41,
     "metadata": {},
     "output_type": "execute_result"
    }
   ],
   "source": [
    "import importlib\n",
    "importlib.reload(ini_sys)"
   ]
  },
  {
   "cell_type": "code",
   "execution_count": 2,
   "metadata": {},
   "outputs": [],
   "source": [
    "from pathlib import Path\n",
    "\n",
    "training_input = Path(\"data/training/input_training.txt\")\n",
    "test_input = Path(\"data/development/input_develop.txt\")"
   ]
  },
  {
   "cell_type": "code",
   "execution_count": 36,
   "metadata": {},
   "outputs": [
    {
     "name": "stdout",
     "output_type": "stream",
     "text": [
      "Success at training!\n",
      "\n",
      "Accuracy: 0.7296248382923674\n",
      "Counter test: Counter({0: 1007, 1: 539})\n",
      "Counter pred: Counter({0: 1305, 1: 241})\n",
      "Average precision: 0.75\n",
      "Average recall: 0.34\n"
     ]
    },
    {
     "data": {
      "text/plain": [
       "<scripts.utils.Collection at 0x7f354081f048>"
      ]
     },
     "execution_count": 36,
     "metadata": {},
     "output_type": "execute_result"
    }
   ],
   "source": [
    "svm_model_form = ini_sys.InitialClassifier()\n",
    "\n",
    "svm_model_form.desired_features = ['pre_pos']\n",
    "svm_model_form.train(training_input)\n",
    "\n",
    "svm_model_form.test(test_input)"
   ]
  },
  {
   "cell_type": "code",
   "execution_count": 37,
   "metadata": {},
   "outputs": [
    {
     "name": "stdout",
     "output_type": "stream",
     "text": [
      "Success at training!\n",
      "\n",
      "Accuracy: 0.7749029754204398\n",
      "Counter test: Counter({0: 1007, 1: 539})\n",
      "Counter pred: Counter({0: 1073, 1: 473})\n",
      "Average precision: 0.70\n",
      "Average recall: 0.62\n"
     ]
    },
    {
     "data": {
      "text/plain": [
       "<scripts.utils.Collection at 0x7f3540ec6240>"
      ]
     },
     "execution_count": 37,
     "metadata": {},
     "output_type": "execute_result"
    }
   ],
   "source": [
    "svm_model_form = ini_sys.InitialClassifier()\n",
    "\n",
    "svm_model_form.desired_features = ['post_pos']\n",
    "svm_model_form.train(training_input)\n",
    "\n",
    "svm_model_form.test(test_input)"
   ]
  },
  {
   "cell_type": "code",
   "execution_count": 32,
   "metadata": {},
   "outputs": [
    {
     "name": "stdout",
     "output_type": "stream",
     "text": [
      "Success at training!\n",
      "\n",
      "Accuracy: 0.8855109961190168\n",
      "Counter test: Counter({0: 1007, 1: 539})\n",
      "Counter pred: Counter({0: 932, 1: 614})\n",
      "Average precision: 0.79\n",
      "Average recall: 0.91\n"
     ]
    },
    {
     "data": {
      "text/plain": [
       "<scripts.utils.Collection at 0x7f35462a9cf8>"
      ]
     },
     "execution_count": 32,
     "metadata": {},
     "output_type": "execute_result"
    }
   ],
   "source": [
    "svm_model_form = ini_sys.InitialClassifier()\n",
    "\n",
    "svm_model_form.desired_features = ['form']\n",
    "svm_model_form.train(training_input)\n",
    "\n",
    "svm_model_form.test(test_input)"
   ]
  },
  {
   "cell_type": "code",
   "execution_count": 35,
   "metadata": {},
   "outputs": [
    {
     "name": "stdout",
     "output_type": "stream",
     "text": [
      "Success at training!\n",
      "\n",
      "Accuracy: 0.8848641655886158\n",
      "Counter test: Counter({0: 1007, 1: 539})\n",
      "Counter pred: Counter({0: 943, 1: 603})\n",
      "Average precision: 0.80\n",
      "Average recall: 0.89\n"
     ]
    },
    {
     "data": {
      "text/plain": [
       "<scripts.utils.Collection at 0x7f3541390828>"
      ]
     },
     "execution_count": 35,
     "metadata": {},
     "output_type": "execute_result"
    }
   ],
   "source": [
    "svm_model_lemma = ini_sys.InitialClassifier()\n",
    "\n",
    "svm_model_lemma.desired_features = ['lemma']\n",
    "svm_model_lemma.train(training_input)\n",
    "\n",
    "svm_model_lemma.test(test_input)"
   ]
  },
  {
   "cell_type": "code",
   "execution_count": 33,
   "metadata": {},
   "outputs": [
    {
     "name": "stdout",
     "output_type": "stream",
     "text": [
      "Success at training!\n",
      "\n",
      "Accuracy: 0.8926261319534282\n",
      "Counter test: Counter({0: 1007, 1: 539})\n",
      "Counter pred: Counter({0: 973, 1: 573})\n",
      "Average precision: 0.83\n",
      "Average recall: 0.88\n"
     ]
    },
    {
     "data": {
      "text/plain": [
       "<scripts.utils.Collection at 0x7f3541608d68>"
      ]
     },
     "execution_count": 33,
     "metadata": {},
     "output_type": "execute_result"
    }
   ],
   "source": [
    "svm_model_pos = ini_sys.InitialClassifier()\n",
    "\n",
    "svm_model_pos.desired_features = ['form', 'pos', 'pre_pos', 'post_pos']\n",
    "svm_model_pos.train(training_input)\n",
    "\n",
    "svm_model_pos.test(test_input)"
   ]
  },
  {
   "cell_type": "code",
   "execution_count": 34,
   "metadata": {},
   "outputs": [
    {
     "name": "stdout",
     "output_type": "stream",
     "text": [
      "Success at training!\n",
      "\n",
      "Accuracy: 0.9029754204398448\n",
      "Counter test: Counter({0: 1007, 1: 539})\n",
      "Counter pred: Counter({0: 957, 1: 589})\n",
      "Average precision: 0.83\n",
      "Average recall: 0.91\n"
     ]
    },
    {
     "data": {
      "text/plain": [
       "<scripts.utils.Collection at 0x7f3540493128>"
      ]
     },
     "execution_count": 34,
     "metadata": {},
     "output_type": "execute_result"
    }
   ],
   "source": [
    "svm_model_all = ini_sys.InitialClassifier()\n",
    "\n",
    "svm_model_all.desired_features = ['form', 'lemma', 'pos','pre_form', 'pre_lemma', 'pre_pos','post_form', 'post_lemma', 'post_pos']\n",
    "svm_model_all.train(training_input)\n",
    "\n",
    "svm_model_all.test(test_input)"
   ]
  },
  {
   "cell_type": "code",
   "execution_count": 23,
   "metadata": {
    "scrolled": true
   },
   "outputs": [
    {
     "name": "stdout",
     "output_type": "stream",
     "text": [
      "Counter pos: Counter({'NOUN': 1907, 'VERB': 640, 'ADJ': 464, 'DET': 119, 'ADV': 96, 'PRON': 87, 'PROPN': 43, 'ADP': 26, 'AUX': 19, 'NUM': 9})\n",
      "Counter train: Counter({0: 6364, 1: 3410})\n",
      "Success at training!\n",
      "Counter pos: Counter({'NOUN': 292, 'VERB': 117, 'ADJ': 63, 'DET': 24, 'PRON': 16, 'ADV': 13, 'PROPN': 5, 'NUM': 4, 'AUX': 3, 'ADP': 2})\n",
      "Accuracy: 0.8842173350582148\n",
      "Counter test: Counter({0: 1007, 1: 539})\n",
      "Counter pred: Counter({0: 974, 1: 572})\n",
      "Average precision: 0.81\n",
      "Average recall: 0.86\n"
     ]
    },
    {
     "data": {
      "text/plain": [
       "<scripts.utils.Collection at 0x7f35417ec0b8>"
      ]
     },
     "execution_count": 23,
     "metadata": {},
     "output_type": "execute_result"
    }
   ],
   "source": [
    "from sklearn import tree\n",
    "\n",
    "tree_model = ini_sys.InitialClassifier(tree.DecisionTreeClassifier())\n",
    "\n",
    "train_result = tree_model.train(training_input)\n",
    "tree_model.test(test_input)"
   ]
  },
  {
   "cell_type": "code",
   "execution_count": null,
   "metadata": {},
   "outputs": [],
   "source": [
    "print(tree.export_text(train_result))"
   ]
  },
  {
   "cell_type": "code",
   "execution_count": 17,
   "metadata": {},
   "outputs": [
    {
     "name": "stdout",
     "output_type": "stream",
     "text": [
      "Counter pos: Counter({'NOUN': 1907, 'VERB': 640, 'ADJ': 464, 'DET': 119, 'ADV': 96, 'PRON': 87, 'PROPN': 43, 'ADP': 26, 'AUX': 19, 'NUM': 9})\n"
     ]
    }
   ],
   "source": [
    "from scripts.utils import Collection\n",
    "\n",
    "collection = Collection()\n",
    "collection.load(training_input)\n",
    "\n",
    "matrix = model.preprocess(collection)"
   ]
  },
  {
   "cell_type": "code",
   "execution_count": 11,
   "metadata": {
    "scrolled": false
   },
   "outputs": [
    {
     "name": "stdout",
     "output_type": "stream",
     "text": [
      "Success at training!\n",
      "\n",
      "Accuracy: 0.8292367399741267\n",
      "Counter test: Counter({'None': 1007, 'Concept': 307, 'Action': 166, 'Predicate': 42, 'Reference': 24})\n",
      "Counter pred: Counter({'None': 960, 'Concept': 437, 'Action': 102, 'Predicate': 32, 'Reference': 15})\n",
      "Label: None      \t0.93\t0.89\n",
      "Label: Predicate \t0.69\t0.52\n",
      "Label: Action    \t0.82\t0.51\n",
      "Label: Concept   \t0.61\t0.87\n",
      "Label: Reference \t0.87\t0.54\n"
     ]
    },
    {
     "data": {
      "text/plain": [
       "<scripts.utils.Collection at 0x7fb61f44b0f0>"
      ]
     },
     "execution_count": 11,
     "metadata": {},
     "output_type": "execute_result"
    }
   ],
   "source": [
    "svm_model_form = ini_sys.InitialClassifier()\n",
    "\n",
    "svm_model_form.desired_features = ['form']\n",
    "svm_model_form.train(training_input)\n",
    "\n",
    "svm_model_form.test(test_input)"
   ]
  },
  {
   "cell_type": "code",
   "execution_count": null,
   "metadata": {},
   "outputs": [],
   "source": [
    "svm_model_form.test(test_input)"
   ]
  },
  {
   "cell_type": "code",
   "execution_count": 10,
   "metadata": {},
   "outputs": [
    {
     "data": {
      "text/plain": [
       "<module 'scripts.initial_system' from '/home/rcarlini/code/mix/ehealthkd-2019/scripts/initial_system.py'>"
      ]
     },
     "execution_count": 10,
     "metadata": {},
     "output_type": "execute_result"
    }
   ],
   "source": [
    "import importlib\n",
    "importlib.reload(ini_sys)"
   ]
  },
  {
   "cell_type": "code",
   "execution_count": null,
   "metadata": {},
   "outputs": [],
   "source": []
  }
 ],
 "metadata": {
  "kernelspec": {
   "display_name": "Python 3",
   "language": "python",
   "name": "python3"
  },
  "language_info": {
   "codemirror_mode": {
    "name": "ipython",
    "version": 3
   },
   "file_extension": ".py",
   "mimetype": "text/x-python",
   "name": "python",
   "nbconvert_exporter": "python",
   "pygments_lexer": "ipython3",
   "version": "3.6.3"
  }
 },
 "nbformat": 4,
 "nbformat_minor": 2
}
